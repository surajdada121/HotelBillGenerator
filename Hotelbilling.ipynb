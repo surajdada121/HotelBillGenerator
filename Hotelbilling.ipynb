{
 "cells": [
  {
   "cell_type": "code",
   "execution_count": null,
   "id": "a56c4e32-3a90-437a-9b24-31e65793849b",
   "metadata": {},
   "outputs": [],
   "source": [
    "def generate_bill_template(username, gmail, nights, rate):\n",
    "    \"\"\"This function generates a bill template for the given user\"\"\"\n",
    "    total = nights * rate\n",
    "    return f\"\"\"=============================================\n",
    "                   SUNSHINE HOTEL\n",
    "=============================================\n",
    "\n",
    "Name: {username}\n",
    "Email: {gmail}\n",
    "\n",
    "Number of Nights: {nights}\n",
    "Nightly Rate: ${rate:.2f}\n",
    "Total Amount: ${total:.2f}\n",
    "\n",
    "Thank you for choosing our hotel!\n",
    "\"\"\"\n",
    "# Get user input\n",
    "username = input(\"Please enter your name: \")\n",
    "gmail = input(\"Please enter your Gmail address: \")\n",
    "nights = int(input(\"Please enter the number of nights you stayed: \"))\n",
    "rate = float(input(\"Please enter the nightly rate: \"))\n",
    "\n",
    "# Generate bill template\n",
    "bill_template = generate_bill_template(username, gmail, nights, rate)\n",
    "\n",
    "# Print bill template\n",
    "print(bill_template)\n"
   ]
  },
  {
   "cell_type": "code",
   "execution_count": null,
   "id": "20d73aec-d220-41ff-b6e4-891c0eee9335",
   "metadata": {},
   "outputs": [],
   "source": [
    "def generate_bill_template(username, gmail, nights, rate):\n",
    "    \"\"\"This function generates a bill template for the given user\"\"\"\n",
    "    total = nights * rate\n",
    "    return f\"\"\"=============================================\n",
    "                   SUNSHINE HOTEL\n",
    "=============================================\n",
    "\n",
    "Name: {username}\n",
    "Email: {gmail}\n",
    "\n",
    "Number of Nights: {nights}\n",
    "Nightly Rate: ${rate:.2f}\n",
    "Total Amount: ${total:.2f}\n",
    "\n",
    "Thank you for choosing our hotel!\n",
    "\"\"\"\n",
    "# Get user input\n",
    "username = input(\"Please enter your name: \")\n",
    "gmail = input(\"Please enter your Gmail address: \")\n",
    "nights = int(input(\"Please enter the number of nights you stayed: \"))\n",
    "rate = float(input(\"Please enter the nightly rate: \"))\n",
    "\n",
    "# Generate bill template\n",
    "bill_template = generate_bill_template(username, gmail, nights, rate)\n",
    "\n",
    "# Print bill template\n",
    "print(bill_template)\n"
   ]
  }
 ],
 "metadata": {
  "kernelspec": {
   "display_name": "Python 3 (ipykernel)",
   "language": "python",
   "name": "python3"
  },
  "language_info": {
   "codemirror_mode": {
    "name": "ipython",
    "version": 3
   },
   "file_extension": ".py",
   "mimetype": "text/x-python",
   "name": "python",
   "nbconvert_exporter": "python",
   "pygments_lexer": "ipython3",
   "version": "3.11.3"
  }
 },
 "nbformat": 4,
 "nbformat_minor": 5
}
